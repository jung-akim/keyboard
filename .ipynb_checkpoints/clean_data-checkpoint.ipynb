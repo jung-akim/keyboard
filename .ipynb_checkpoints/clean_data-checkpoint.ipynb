{
 "cells": [
  {
   "cell_type": "markdown",
   "metadata": {},
   "source": [
    "## This file cleans up the scraped data\n",
    "- Convert data into proper types"
   ]
  },
  {
   "cell_type": "code",
   "execution_count": 1,
   "metadata": {},
   "outputs": [],
   "source": [
    "import pandas as pd\n",
    "import patsy\n",
    "import numpy as np"
   ]
  },
  {
   "cell_type": "code",
   "execution_count": 2,
   "metadata": {
    "scrolled": true
   },
   "outputs": [],
   "source": [
    "df = pd.read_pickle('products_df.pkl')"
   ]
  },
  {
   "cell_type": "markdown",
   "metadata": {},
   "source": [
    "#### Price"
   ]
  },
  {
   "cell_type": "code",
   "execution_count": 3,
   "metadata": {},
   "outputs": [],
   "source": [
    "mask = df.price.map(lambda x: len(x)) > 6\n",
    "df.loc[mask, \"price\"] = \\\n",
    "df.price.loc[mask].map(lambda x: x.split('to')[0].strip())\n",
    "df.loc[mask, \"price\"] = df.price.map(lambda x: x.replace(\",\", \"\"))\n",
    "mask = df.price.map(lambda x: x == 'Tap item')\n",
    "df.loc[mask, \"price\"] = None\n",
    "df.loc[:,\"price\"] = df.price.map(lambda x: \"{:.2f}\".format(float(x)) if x != None else None)"
   ]
  },
  {
   "cell_type": "markdown",
   "metadata": {},
   "source": [
    "#### status"
   ]
  },
  {
   "cell_type": "code",
   "execution_count": 4,
   "metadata": {
    "scrolled": false
   },
   "outputs": [
    {
     "data": {
      "text/plain": [
       "Brand New      3536\n",
       "Pre-Owned      1427\n",
       "Open Box        618\n",
       "Refurbished     209\n",
       "Name: status, dtype: int64"
      ]
     },
     "execution_count": 4,
     "metadata": {},
     "output_type": "execute_result"
    }
   ],
   "source": [
    "df.status.value_counts()"
   ]
  },
  {
   "cell_type": "code",
   "execution_count": 5,
   "metadata": {
    "scrolled": true
   },
   "outputs": [],
   "source": [
    "X = patsy.dmatrix('status',data=df,return_type='dataframe').iloc[:,1:]\n",
    "# df.iloc[[i not in X.index for i in df.index]]"
   ]
  },
  {
   "cell_type": "code",
   "execution_count": 6,
   "metadata": {},
   "outputs": [],
   "source": [
    "df = pd.concat([df, X], axis=1, sort=False).drop('status', axis = 1)"
   ]
  },
  {
   "cell_type": "code",
   "execution_count": 7,
   "metadata": {},
   "outputs": [],
   "source": [
    "df = df.rename(columns = {\"status[T.Open Box]\": \"open_box\", \"status[T.Pre-Owned]\" : \"pre_owned\", \"status[T.Refurbished]\" : \"refurbished\"})"
   ]
  },
  {
   "cell_type": "markdown",
   "metadata": {},
   "source": [
    "#### (average) rating"
   ]
  },
  {
   "cell_type": "code",
   "execution_count": 8,
   "metadata": {
    "scrolled": true
   },
   "outputs": [
    {
     "data": {
      "text/plain": [
       "5.0    463\n",
       "4.5    328\n",
       "4.0     51\n",
       "3.5     19\n",
       "3.0     14\n",
       "1.0     14\n",
       "2.0      5\n",
       "2.5      5\n",
       "Name: rating, dtype: int64"
      ]
     },
     "execution_count": 8,
     "metadata": {},
     "output_type": "execute_result"
    }
   ],
   "source": [
    "df.rating.value_counts()"
   ]
  },
  {
   "cell_type": "code",
   "execution_count": 9,
   "metadata": {},
   "outputs": [],
   "source": [
    "df.loc[:,\"rating\"] = df.rating.map(lambda x: float(format(float(x), \".1f\")) if x != None else None)"
   ]
  },
  {
   "cell_type": "markdown",
   "metadata": {},
   "source": [
    "#### shipping"
   ]
  },
  {
   "cell_type": "code",
   "execution_count": 10,
   "metadata": {},
   "outputs": [],
   "source": [
    "def filter_shipping(value):\n",
    "    if value == None:\n",
    "        return None\n",
    "    if \"Free\" in value:\n",
    "        return 0\n",
    "    else:\n",
    "        return \"{:.2f}\".format(float(value.split('shipping')[0][2:].strip()))"
   ]
  },
  {
   "cell_type": "code",
   "execution_count": 11,
   "metadata": {},
   "outputs": [
    {
     "data": {
      "text/plain": [
       "Free shipping        3586\n",
       "+$14.90 shipping      213\n",
       "+$20.00 shipping      155\n",
       "+$5.00 shipping        76\n",
       "+$9.60 shipping        68\n",
       "                     ... \n",
       "+$103.45 shipping       1\n",
       "+$7.55 shipping         1\n",
       "+$11.71 shipping        1\n",
       "+$13.22 shipping        1\n",
       "+$25.55 shipping        1\n",
       "Name: shipping, Length: 437, dtype: int64"
      ]
     },
     "execution_count": 11,
     "metadata": {},
     "output_type": "execute_result"
    }
   ],
   "source": [
    "df.shipping.value_counts()"
   ]
  },
  {
   "cell_type": "code",
   "execution_count": 12,
   "metadata": {},
   "outputs": [],
   "source": [
    "df.loc[:,'shipping'] = df.shipping.map(filter_shipping)"
   ]
  },
  {
   "cell_type": "markdown",
   "metadata": {},
   "source": [
    "#### return"
   ]
  },
  {
   "cell_type": "code",
   "execution_count": 13,
   "metadata": {},
   "outputs": [
    {
     "data": {
      "text/plain": [
       "Free returns    1488\n",
       "Name: return, dtype: int64"
      ]
     },
     "execution_count": 13,
     "metadata": {},
     "output_type": "execute_result"
    }
   ],
   "source": [
    "df['return'].value_counts()"
   ]
  },
  {
   "cell_type": "code",
   "execution_count": 14,
   "metadata": {
    "scrolled": true
   },
   "outputs": [],
   "source": [
    "df['return'] = df['return'].map(lambda x: 1 if x == 'Free returns' else 0)"
   ]
  },
  {
   "cell_type": "code",
   "execution_count": 15,
   "metadata": {},
   "outputs": [],
   "source": [
    "df = df.rename(columns = {'return': 'free_return'})"
   ]
  },
  {
   "cell_type": "code",
   "execution_count": 16,
   "metadata": {},
   "outputs": [
    {
     "data": {
      "text/html": [
       "<div>\n",
       "<style scoped>\n",
       "    .dataframe tbody tr th:only-of-type {\n",
       "        vertical-align: middle;\n",
       "    }\n",
       "\n",
       "    .dataframe tbody tr th {\n",
       "        vertical-align: top;\n",
       "    }\n",
       "\n",
       "    .dataframe thead th {\n",
       "        text-align: right;\n",
       "    }\n",
       "</style>\n",
       "<table border=\"1\" class=\"dataframe\">\n",
       "  <thead>\n",
       "    <tr style=\"text-align: right;\">\n",
       "      <th></th>\n",
       "      <th>name</th>\n",
       "      <th>epid</th>\n",
       "      <th>link</th>\n",
       "      <th>price</th>\n",
       "      <th>rating</th>\n",
       "      <th>shipping</th>\n",
       "      <th>free_return</th>\n",
       "      <th>num_ratings</th>\n",
       "      <th>hotness</th>\n",
       "      <th>sold</th>\n",
       "      <th>open_box</th>\n",
       "      <th>pre_owned</th>\n",
       "      <th>refurbished</th>\n",
       "    </tr>\n",
       "  </thead>\n",
       "  <tbody>\n",
       "    <tr>\n",
       "      <th>0</th>\n",
       "      <td>GK806 Wire Gaming Keyboard and Mouse Combo Bac...</td>\n",
       "      <td>24033837546</td>\n",
       "      <td>https://www.ebay.com/itm/GK806-Wire-Gaming-Key...</td>\n",
       "      <td>29.98</td>\n",
       "      <td>4.5</td>\n",
       "      <td>0</td>\n",
       "      <td>0</td>\n",
       "      <td>4</td>\n",
       "      <td>None</td>\n",
       "      <td>238 sold</td>\n",
       "      <td>0.0</td>\n",
       "      <td>0.0</td>\n",
       "      <td>0.0</td>\n",
       "    </tr>\n",
       "  </tbody>\n",
       "</table>\n",
       "</div>"
      ],
      "text/plain": [
       "                                                name         epid  \\\n",
       "0  GK806 Wire Gaming Keyboard and Mouse Combo Bac...  24033837546   \n",
       "\n",
       "                                                link  price  rating shipping  \\\n",
       "0  https://www.ebay.com/itm/GK806-Wire-Gaming-Key...  29.98     4.5        0   \n",
       "\n",
       "   free_return  num_ratings hotness      sold  open_box  pre_owned  \\\n",
       "0            0            4    None  238 sold       0.0        0.0   \n",
       "\n",
       "   refurbished  \n",
       "0          0.0  "
      ]
     },
     "execution_count": 16,
     "metadata": {},
     "output_type": "execute_result"
    }
   ],
   "source": [
    "df.head(1)"
   ]
  },
  {
   "cell_type": "markdown",
   "metadata": {},
   "source": [
    "#### num_ratings"
   ]
  },
  {
   "cell_type": "code",
   "execution_count": 17,
   "metadata": {},
   "outputs": [
    {
     "data": {
      "text/plain": [
       "0      5096\n",
       "2        99\n",
       "3        69\n",
       "6        41\n",
       "5        40\n",
       "       ... \n",
       "50        1\n",
       "22        1\n",
       "49        1\n",
       "148       1\n",
       "317       1\n",
       "Name: num_ratings, Length: 100, dtype: int64"
      ]
     },
     "execution_count": 17,
     "metadata": {},
     "output_type": "execute_result"
    }
   ],
   "source": [
    "df.num_ratings.value_counts()"
   ]
  },
  {
   "cell_type": "code",
   "execution_count": 18,
   "metadata": {},
   "outputs": [
    {
     "data": {
      "text/plain": [
       "numpy.int64"
      ]
     },
     "execution_count": 18,
     "metadata": {},
     "output_type": "execute_result"
    }
   ],
   "source": [
    "type(df.num_ratings[0])"
   ]
  },
  {
   "cell_type": "markdown",
   "metadata": {},
   "source": [
    "#### hotness"
   ]
  },
  {
   "cell_type": "code",
   "execution_count": 19,
   "metadata": {
    "scrolled": false
   },
   "outputs": [
    {
     "data": {
      "text/plain": [
       "Last one            136\n",
       "Benefits charity     31\n",
       "2 watchers           21\n",
       "4 watchers           14\n",
       "3 watchers           12\n",
       "                   ... \n",
       "53+ watchers          1\n",
       "21 sold               1\n",
       "91 sold               1\n",
       "445 sold              1\n",
       "14 sold               1\n",
       "Name: hotness, Length: 298, dtype: int64"
      ]
     },
     "execution_count": 19,
     "metadata": {},
     "output_type": "execute_result"
    }
   ],
   "source": [
    "df.hotness.value_counts()"
   ]
  },
  {
   "cell_type": "code",
   "execution_count": 20,
   "metadata": {},
   "outputs": [],
   "source": [
    "mask = df.hotness.map(lambda x: x is not None)"
   ]
  },
  {
   "cell_type": "code",
   "execution_count": 21,
   "metadata": {},
   "outputs": [],
   "source": [
    "# Basically, this cell is for rows to have 'sold' string in only \"sold\" column, not in \"hotness\" column\n",
    "\n",
    "# Except for the rows that have 'sold' string in \"hotness\" column but not in \"sold\" column,\n",
    "# remove the rows that have 'sold' string in both \"hotness\" and \"sold\" columns\n",
    "duplicate_indices = np.array(df.hotness[mask].index[df.hotness[mask].map(lambda x: True if \"sold\" in x else False)])\n",
    "non_duplicate_indices = []\n",
    "for i in duplicate_indices:\n",
    "    if i not in df.sold[mask].index[df.sold[mask].map(lambda x: 'sold' in x if type(x) == str else False)]:\n",
    "        duplicate_indices = np.delete(duplicate_indices, np.where(duplicate_indices == i))\n",
    "        non_duplicate_indices.append(i) \n",
    "df.loc[duplicate_indices, 'hotness'] = None\n",
    "\n",
    "# In the rows that have 'sold' string in \"hotness\" column but not in \"sold\" column,\n",
    "# move the 'sold' string to \"sold\" column and replace the \"hotness\" column with None\n",
    "df.loc[non_duplicate_indices, 'sold'] = df.loc[non_duplicate_indices, 'hotness']\n",
    "df.loc[non_duplicate_indices, 'hotness'] = None"
   ]
  },
  {
   "cell_type": "code",
   "execution_count": 22,
   "metadata": {
    "scrolled": true
   },
   "outputs": [],
   "source": [
    "# Create a new column \"watchers\" and put number of watchers in there\n",
    "mask = df.hotness.map(lambda x: x is not None)\n",
    "mask_watcher = df.hotness.loc[mask].map(lambda x: True if \"watcher\" in x else False)\n",
    "df.loc[mask, \"watcher\"] = df.hotness[mask].loc[mask_watcher]\n",
    "df.loc[df.loc[mask].loc[mask_watcher].index, 'hotness'] = None"
   ]
  },
  {
   "cell_type": "code",
   "execution_count": 23,
   "metadata": {},
   "outputs": [
    {
     "data": {
      "text/plain": [
       "Last one               136\n",
       "Benefits charity        31\n",
       "                        11\n",
       "Tue, Jul. 14             4\n",
       "Wed, Jul. 15             3\n",
       "Free 3 day shipping      1\n",
       "Name: hotness, dtype: int64"
      ]
     },
     "execution_count": 23,
     "metadata": {},
     "output_type": "execute_result"
    }
   ],
   "source": [
    "df.hotness.value_counts()"
   ]
  },
  {
   "cell_type": "markdown",
   "metadata": {},
   "source": [
    "Keep only 'Last one' and 'Benefits charity' as for hotness"
   ]
  },
  {
   "cell_type": "code",
   "execution_count": 24,
   "metadata": {},
   "outputs": [
    {
     "data": {
      "text/plain": [
       "Last one            136\n",
       "Benefits charity     31\n",
       "Name: hotness, dtype: int64"
      ]
     },
     "execution_count": 24,
     "metadata": {},
     "output_type": "execute_result"
    }
   ],
   "source": [
    "\n",
    "mask = ((df.hotness == 'Benefits charity') | (df.hotness == 'Last one')) == False\n",
    "\n",
    "df.loc[mask,'hotness'] = None\n",
    "df.hotness.value_counts()"
   ]
  },
  {
   "cell_type": "markdown",
   "metadata": {},
   "source": [
    "Convert num of watchers into integer"
   ]
  },
  {
   "cell_type": "code",
   "execution_count": 25,
   "metadata": {},
   "outputs": [],
   "source": [
    "df.loc[:,'watcher'] = df['watcher'].fillna(0)\n",
    "df.loc[:,'watcher'] = df.watcher.map(lambda x: int(x.split(' watchers')[0].strip().strip('+')) if type(x) == str else x)"
   ]
  },
  {
   "cell_type": "code",
   "execution_count": 26,
   "metadata": {},
   "outputs": [
    {
     "data": {
      "text/plain": [
       "(array([ 890,  891,  974, 1086, 1117, 1294, 1614, 1676, 1766, 1962, 1982,\n",
       "        2048, 2076, 2116, 2589, 2597, 2729, 3010, 3351, 3397, 3636, 3762,\n",
       "        3805, 3834, 3843, 3850, 3970, 4035, 4678, 5220, 5474]),)"
      ]
     },
     "execution_count": 26,
     "metadata": {},
     "output_type": "execute_result"
    }
   ],
   "source": [
    "np.where(df.hotness == 'Benefits charity')"
   ]
  },
  {
   "cell_type": "code",
   "execution_count": 27,
   "metadata": {},
   "outputs": [
    {
     "data": {
      "text/html": [
       "<div>\n",
       "<style scoped>\n",
       "    .dataframe tbody tr th:only-of-type {\n",
       "        vertical-align: middle;\n",
       "    }\n",
       "\n",
       "    .dataframe tbody tr th {\n",
       "        vertical-align: top;\n",
       "    }\n",
       "\n",
       "    .dataframe thead th {\n",
       "        text-align: right;\n",
       "    }\n",
       "</style>\n",
       "<table border=\"1\" class=\"dataframe\">\n",
       "  <thead>\n",
       "    <tr style=\"text-align: right;\">\n",
       "      <th></th>\n",
       "      <th>Benefits charity</th>\n",
       "      <th>Last one</th>\n",
       "    </tr>\n",
       "  </thead>\n",
       "  <tbody>\n",
       "    <tr>\n",
       "      <th>0</th>\n",
       "      <td>0</td>\n",
       "      <td>0</td>\n",
       "    </tr>\n",
       "    <tr>\n",
       "      <th>1</th>\n",
       "      <td>0</td>\n",
       "      <td>0</td>\n",
       "    </tr>\n",
       "    <tr>\n",
       "      <th>2</th>\n",
       "      <td>0</td>\n",
       "      <td>0</td>\n",
       "    </tr>\n",
       "    <tr>\n",
       "      <th>3</th>\n",
       "      <td>0</td>\n",
       "      <td>0</td>\n",
       "    </tr>\n",
       "    <tr>\n",
       "      <th>4</th>\n",
       "      <td>0</td>\n",
       "      <td>0</td>\n",
       "    </tr>\n",
       "    <tr>\n",
       "      <th>...</th>\n",
       "      <td>...</td>\n",
       "      <td>...</td>\n",
       "    </tr>\n",
       "    <tr>\n",
       "      <th>5789</th>\n",
       "      <td>0</td>\n",
       "      <td>0</td>\n",
       "    </tr>\n",
       "    <tr>\n",
       "      <th>5790</th>\n",
       "      <td>0</td>\n",
       "      <td>0</td>\n",
       "    </tr>\n",
       "    <tr>\n",
       "      <th>5791</th>\n",
       "      <td>0</td>\n",
       "      <td>0</td>\n",
       "    </tr>\n",
       "    <tr>\n",
       "      <th>5792</th>\n",
       "      <td>0</td>\n",
       "      <td>0</td>\n",
       "    </tr>\n",
       "    <tr>\n",
       "      <th>5793</th>\n",
       "      <td>0</td>\n",
       "      <td>0</td>\n",
       "    </tr>\n",
       "  </tbody>\n",
       "</table>\n",
       "<p>5794 rows × 2 columns</p>\n",
       "</div>"
      ],
      "text/plain": [
       "      Benefits charity  Last one\n",
       "0                    0         0\n",
       "1                    0         0\n",
       "2                    0         0\n",
       "3                    0         0\n",
       "4                    0         0\n",
       "...                ...       ...\n",
       "5789                 0         0\n",
       "5790                 0         0\n",
       "5791                 0         0\n",
       "5792                 0         0\n",
       "5793                 0         0\n",
       "\n",
       "[5794 rows x 2 columns]"
      ]
     },
     "execution_count": 27,
     "metadata": {},
     "output_type": "execute_result"
    }
   ],
   "source": [
    "pd.get_dummies(df[\"hotness\"])"
   ]
  },
  {
   "cell_type": "code",
   "execution_count": 28,
   "metadata": {},
   "outputs": [],
   "source": [
    "df = pd.concat([df, pd.get_dummies(df[\"hotness\"])], axis=1, sort=False).drop('hotness', axis = 1)"
   ]
  },
  {
   "cell_type": "code",
   "execution_count": 29,
   "metadata": {},
   "outputs": [],
   "source": [
    "df = df.rename(columns = {\"Benefits charity\": \"benefits_charity\", \"Last one\": \"last_one\"})"
   ]
  },
  {
   "cell_type": "markdown",
   "metadata": {},
   "source": [
    "#### sold"
   ]
  },
  {
   "cell_type": "code",
   "execution_count": 30,
   "metadata": {},
   "outputs": [
    {
     "data": {
      "text/plain": [
       "5794"
      ]
     },
     "execution_count": 30,
     "metadata": {},
     "output_type": "execute_result"
    }
   ],
   "source": [
    "sum(df.sold.map(lambda x: x == 0)) + sum(df.sold.map(lambda x: \"sold\" in x if type(x) != int else False))"
   ]
  },
  {
   "cell_type": "code",
   "execution_count": 31,
   "metadata": {},
   "outputs": [
    {
     "data": {
      "text/plain": [
       "5794"
      ]
     },
     "execution_count": 31,
     "metadata": {},
     "output_type": "execute_result"
    }
   ],
   "source": [
    "len(df.sold)# sold column either has \"sold\" in it or it's zero"
   ]
  },
  {
   "cell_type": "markdown",
   "metadata": {},
   "source": [
    "Convert string values to integer"
   ]
  },
  {
   "cell_type": "code",
   "execution_count": 32,
   "metadata": {},
   "outputs": [],
   "source": [
    "mask = df.sold.map(lambda x: \"sold\" in x if type(x) != int else False)\n",
    "df.loc[mask, \"sold\"] = df.loc[mask, \"sold\"].map(lambda x: int(x.split(' sold')[0].strip().replace(',','')))"
   ]
  },
  {
   "cell_type": "code",
   "execution_count": 33,
   "metadata": {},
   "outputs": [],
   "source": [
    "df = df[['epid', 'name', 'link', 'price', 'rating', 'num_ratings', 'watcher', 'shipping', 'free_return', 'open_box', 'pre_owned', 'refurbished', 'benefits_charity', 'last_one', 'sold']]\n",
    "df.loc[:,\"price\"] = pd.to_numeric(df.price)\n",
    "df.loc[:,\"shipping\"] = pd.to_numeric(df.shipping)\n",
    "df.loc[:,\"sold\"] = pd.to_numeric(df.sold)"
   ]
  },
  {
   "cell_type": "code",
   "execution_count": 34,
   "metadata": {},
   "outputs": [],
   "source": [
    "# pd.to_pickle(df, 'clean_products_df.pkl')\n",
    "# df = pd.read_pickle('clean_products_df.pkl')"
   ]
  },
  {
   "cell_type": "code",
   "execution_count": 35,
   "metadata": {
    "scrolled": true
   },
   "outputs": [
    {
     "data": {
      "text/plain": [
       "epid                 object\n",
       "name                 object\n",
       "link                 object\n",
       "price               float64\n",
       "rating              float64\n",
       "num_ratings           int64\n",
       "watcher               int64\n",
       "shipping            float64\n",
       "free_return           int64\n",
       "open_box            float64\n",
       "pre_owned           float64\n",
       "refurbished         float64\n",
       "benefits_charity      uint8\n",
       "last_one              uint8\n",
       "sold                  int64\n",
       "dtype: object"
      ]
     },
     "execution_count": 35,
     "metadata": {},
     "output_type": "execute_result"
    }
   ],
   "source": [
    "df.dtypes"
   ]
  },
  {
   "cell_type": "code",
   "execution_count": null,
   "metadata": {},
   "outputs": [],
   "source": []
  }
 ],
 "metadata": {
  "kernelspec": {
   "display_name": "Python 3",
   "language": "python",
   "name": "python3"
  },
  "language_info": {
   "codemirror_mode": {
    "name": "ipython",
    "version": 3
   },
   "file_extension": ".py",
   "mimetype": "text/x-python",
   "name": "python",
   "nbconvert_exporter": "python",
   "pygments_lexer": "ipython3",
   "version": "3.7.7"
  }
 },
 "nbformat": 4,
 "nbformat_minor": 4
}
